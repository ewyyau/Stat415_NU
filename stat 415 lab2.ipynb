{
 "cells": [
  {
   "cell_type": "code",
   "execution_count": 1,
   "id": "6a4c27c2-9448-4454-b536-9ee1c530fe38",
   "metadata": {
    "collapsed": true,
    "jupyter": {
     "outputs_hidden": true
    },
    "tags": []
   },
   "outputs": [
    {
     "name": "stdout",
     "output_type": "stream",
     "text": [
      "Requirement already satisfied: sentence-transformers in c:\\users\\eywy0\\appdata\\local\\packages\\pythonsoftwarefoundation.python.3.8_qbz5n2kfra8p0\\localcache\\local-packages\\python38\\site-packages (2.2.2)\n",
      "Requirement already satisfied: huggingface-hub>=0.4.0 in c:\\users\\eywy0\\appdata\\local\\packages\\pythonsoftwarefoundation.python.3.8_qbz5n2kfra8p0\\localcache\\local-packages\\python38\\site-packages (from sentence-transformers) (0.14.1)\n",
      "Requirement already satisfied: nltk in c:\\users\\eywy0\\appdata\\local\\packages\\pythonsoftwarefoundation.python.3.8_qbz5n2kfra8p0\\localcache\\local-packages\\python38\\site-packages (from sentence-transformers) (3.7)\n",
      "Requirement already satisfied: torchvision in c:\\users\\eywy0\\appdata\\local\\packages\\pythonsoftwarefoundation.python.3.8_qbz5n2kfra8p0\\localcache\\local-packages\\python38\\site-packages (from sentence-transformers) (0.15.1)\n",
      "Requirement already satisfied: sentencepiece in c:\\users\\eywy0\\appdata\\local\\packages\\pythonsoftwarefoundation.python.3.8_qbz5n2kfra8p0\\localcache\\local-packages\\python38\\site-packages (from sentence-transformers) (0.1.98)\n",
      "Requirement already satisfied: transformers<5.0.0,>=4.6.0 in c:\\users\\eywy0\\appdata\\local\\packages\\pythonsoftwarefoundation.python.3.8_qbz5n2kfra8p0\\localcache\\local-packages\\python38\\site-packages (from sentence-transformers) (4.28.1)\n",
      "Requirement already satisfied: scikit-learn in c:\\users\\eywy0\\appdata\\local\\packages\\pythonsoftwarefoundation.python.3.8_qbz5n2kfra8p0\\localcache\\local-packages\\python38\\site-packages (from sentence-transformers) (1.1.1)\n",
      "Requirement already satisfied: torch>=1.6.0 in c:\\users\\eywy0\\appdata\\local\\packages\\pythonsoftwarefoundation.python.3.8_qbz5n2kfra8p0\\localcache\\local-packages\\python38\\site-packages (from sentence-transformers) (2.0.0)\n",
      "Requirement already satisfied: scipy in c:\\users\\eywy0\\appdata\\local\\packages\\pythonsoftwarefoundation.python.3.8_qbz5n2kfra8p0\\localcache\\local-packages\\python38\\site-packages (from sentence-transformers) (1.8.1)\n",
      "Requirement already satisfied: tqdm in c:\\users\\eywy0\\appdata\\local\\packages\\pythonsoftwarefoundation.python.3.8_qbz5n2kfra8p0\\localcache\\local-packages\\python38\\site-packages (from sentence-transformers) (4.64.0)\n",
      "Requirement already satisfied: numpy in c:\\users\\eywy0\\appdata\\local\\packages\\pythonsoftwarefoundation.python.3.8_qbz5n2kfra8p0\\localcache\\local-packages\\python38\\site-packages (from sentence-transformers) (1.22.4)\n",
      "Requirement already satisfied: filelock in c:\\users\\eywy0\\appdata\\local\\packages\\pythonsoftwarefoundation.python.3.8_qbz5n2kfra8p0\\localcache\\local-packages\\python38\\site-packages (from huggingface-hub>=0.4.0->sentence-transformers) (3.12.0)\n",
      "Requirement already satisfied: fsspec in c:\\users\\eywy0\\appdata\\local\\packages\\pythonsoftwarefoundation.python.3.8_qbz5n2kfra8p0\\localcache\\local-packages\\python38\\site-packages (from huggingface-hub>=0.4.0->sentence-transformers) (2023.4.0)\n",
      "Requirement already satisfied: pyyaml>=5.1 in c:\\users\\eywy0\\appdata\\local\\packages\\pythonsoftwarefoundation.python.3.8_qbz5n2kfra8p0\\localcache\\local-packages\\python38\\site-packages (from huggingface-hub>=0.4.0->sentence-transformers) (6.0)\n",
      "Requirement already satisfied: requests in c:\\users\\eywy0\\appdata\\local\\packages\\pythonsoftwarefoundation.python.3.8_qbz5n2kfra8p0\\localcache\\local-packages\\python38\\site-packages (from huggingface-hub>=0.4.0->sentence-transformers) (2.27.1)\n",
      "Requirement already satisfied: packaging>=20.9 in c:\\users\\eywy0\\appdata\\local\\packages\\pythonsoftwarefoundation.python.3.8_qbz5n2kfra8p0\\localcache\\local-packages\\python38\\site-packages (from huggingface-hub>=0.4.0->sentence-transformers) (21.3)\n",
      "Requirement already satisfied: typing-extensions>=3.7.4.3 in c:\\users\\eywy0\\appdata\\local\\packages\\pythonsoftwarefoundation.python.3.8_qbz5n2kfra8p0\\localcache\\local-packages\\python38\\site-packages (from huggingface-hub>=0.4.0->sentence-transformers) (3.7.4.3)\n",
      "Requirement already satisfied: pyparsing!=3.0.5,>=2.0.2 in c:\\users\\eywy0\\appdata\\local\\packages\\pythonsoftwarefoundation.python.3.8_qbz5n2kfra8p0\\localcache\\local-packages\\python38\\site-packages (from packaging>=20.9->huggingface-hub>=0.4.0->sentence-transformers) (2.4.7)\n",
      "Requirement already satisfied: jinja2 in c:\\users\\eywy0\\appdata\\local\\packages\\pythonsoftwarefoundation.python.3.8_qbz5n2kfra8p0\\localcache\\local-packages\\python38\\site-packages (from torch>=1.6.0->sentence-transformers) (3.1.2)\n",
      "Requirement already satisfied: networkx in c:\\users\\eywy0\\appdata\\local\\packages\\pythonsoftwarefoundation.python.3.8_qbz5n2kfra8p0\\localcache\\local-packages\\python38\\site-packages (from torch>=1.6.0->sentence-transformers) (3.1)\n",
      "Requirement already satisfied: sympy in c:\\users\\eywy0\\appdata\\local\\packages\\pythonsoftwarefoundation.python.3.8_qbz5n2kfra8p0\\localcache\\local-packages\\python38\\site-packages (from torch>=1.6.0->sentence-transformers) (1.11.1)\n",
      "Requirement already satisfied: colorama in c:\\users\\eywy0\\appdata\\local\\packages\\pythonsoftwarefoundation.python.3.8_qbz5n2kfra8p0\\localcache\\local-packages\\python38\\site-packages (from tqdm->sentence-transformers) (0.4.4)\n",
      "Requirement already satisfied: regex!=2019.12.17 in c:\\users\\eywy0\\appdata\\local\\packages\\pythonsoftwarefoundation.python.3.8_qbz5n2kfra8p0\\localcache\\local-packages\\python38\\site-packages (from transformers<5.0.0,>=4.6.0->sentence-transformers) (2022.4.24)\n",
      "Requirement already satisfied: tokenizers!=0.11.3,<0.14,>=0.11.1 in c:\\users\\eywy0\\appdata\\local\\packages\\pythonsoftwarefoundation.python.3.8_qbz5n2kfra8p0\\localcache\\local-packages\\python38\\site-packages (from transformers<5.0.0,>=4.6.0->sentence-transformers) (0.13.3)\n",
      "Requirement already satisfied: MarkupSafe>=2.0 in c:\\users\\eywy0\\appdata\\local\\packages\\pythonsoftwarefoundation.python.3.8_qbz5n2kfra8p0\\localcache\\local-packages\\python38\\site-packages (from jinja2->torch>=1.6.0->sentence-transformers) (2.1.1)\n",
      "Requirement already satisfied: click in c:\\users\\eywy0\\appdata\\local\\packages\\pythonsoftwarefoundation.python.3.8_qbz5n2kfra8p0\\localcache\\local-packages\\python38\\site-packages (from nltk->sentence-transformers) (8.1.3)\n",
      "Requirement already satisfied: joblib in c:\\users\\eywy0\\appdata\\local\\packages\\pythonsoftwarefoundation.python.3.8_qbz5n2kfra8p0\\localcache\\local-packages\\python38\\site-packages (from nltk->sentence-transformers) (1.1.0)\n",
      "Requirement already satisfied: urllib3<1.27,>=1.21.1 in c:\\users\\eywy0\\appdata\\local\\packages\\pythonsoftwarefoundation.python.3.8_qbz5n2kfra8p0\\localcache\\local-packages\\python38\\site-packages (from requests->huggingface-hub>=0.4.0->sentence-transformers) (1.26.9)\n",
      "Requirement already satisfied: idna<4,>=2.5 in c:\\users\\eywy0\\appdata\\local\\packages\\pythonsoftwarefoundation.python.3.8_qbz5n2kfra8p0\\localcache\\local-packages\\python38\\site-packages (from requests->huggingface-hub>=0.4.0->sentence-transformers) (3.3)\n",
      "Requirement already satisfied: charset-normalizer~=2.0.0 in c:\\users\\eywy0\\appdata\\local\\packages\\pythonsoftwarefoundation.python.3.8_qbz5n2kfra8p0\\localcache\\local-packages\\python38\\site-packages (from requests->huggingface-hub>=0.4.0->sentence-transformers) (2.0.12)\n",
      "Requirement already satisfied: certifi>=2017.4.17 in c:\\users\\eywy0\\appdata\\local\\packages\\pythonsoftwarefoundation.python.3.8_qbz5n2kfra8p0\\localcache\\local-packages\\python38\\site-packages (from requests->huggingface-hub>=0.4.0->sentence-transformers) (2022.5.18.1)\n",
      "Requirement already satisfied: threadpoolctl>=2.0.0 in c:\\users\\eywy0\\appdata\\local\\packages\\pythonsoftwarefoundation.python.3.8_qbz5n2kfra8p0\\localcache\\local-packages\\python38\\site-packages (from scikit-learn->sentence-transformers) (3.1.0)\n",
      "Requirement already satisfied: mpmath>=0.19 in c:\\users\\eywy0\\appdata\\local\\packages\\pythonsoftwarefoundation.python.3.8_qbz5n2kfra8p0\\localcache\\local-packages\\python38\\site-packages (from sympy->torch>=1.6.0->sentence-transformers) (1.3.0)\n",
      "Requirement already satisfied: pillow!=8.3.*,>=5.3.0 in c:\\users\\eywy0\\appdata\\local\\packages\\pythonsoftwarefoundation.python.3.8_qbz5n2kfra8p0\\localcache\\local-packages\\python38\\site-packages (from torchvision->sentence-transformers) (9.5.0)\n",
      "Note: you may need to restart the kernel to use updated packages.\n"
     ]
    }
   ],
   "source": [
    "pip install -U sentence-transformers"
   ]
  },
  {
   "cell_type": "code",
   "execution_count": 245,
   "id": "3e02952e-5faa-48b8-b4e7-3f29c0b91bc4",
   "metadata": {},
   "outputs": [],
   "source": [
    "import warnings\n",
    "warnings.filterwarnings(\"ignore\")\n",
    "import pandas as pd\n",
    "from matplotlib import pyplot as plt\n",
    "import numpy as np\n",
    "# import openpyxl\n",
    "from statistics import mean, median\n",
    "from imblearn.under_sampling import RandomUnderSampler\n",
    "import seaborn as sns\n",
    "from numpy import asarray\n",
    "from math import sqrt, log\n",
    "# import re\n",
    "# import heapq\n",
    "from itertools import combinations\n",
    "from scipy.stats import zscore\n",
    "from sklearn.linear_model import LinearRegression, Ridge, Lasso\n",
    "from sklearn.preprocessing import LabelEncoder, OrdinalEncoder, OneHotEncoder\n",
    "from sklearn.cluster import KMeans, DBSCAN, AgglomerativeClustering\n",
    "from sklearn.metrics import silhouette_score, adjusted_rand_score\n",
    "from sklearn.model_selection import train_test_split\n",
    "from sentence_transformers import SentenceTransformer"
   ]
  },
  {
   "cell_type": "code",
   "execution_count": 3,
   "id": "12107b21-665f-4107-ad74-e3cc3f30961b",
   "metadata": {
    "tags": []
   },
   "outputs": [
    {
     "data": {
      "text/html": [
       "<div>\n",
       "<style scoped>\n",
       "    .dataframe tbody tr th:only-of-type {\n",
       "        vertical-align: middle;\n",
       "    }\n",
       "\n",
       "    .dataframe tbody tr th {\n",
       "        vertical-align: top;\n",
       "    }\n",
       "\n",
       "    .dataframe thead th {\n",
       "        text-align: right;\n",
       "    }\n",
       "</style>\n",
       "<table border=\"1\" class=\"dataframe\">\n",
       "  <thead>\n",
       "    <tr style=\"text-align: right;\">\n",
       "      <th></th>\n",
       "      <th>Reviewer Name</th>\n",
       "      <th>Restaurant Name</th>\n",
       "      <th>Rating</th>\n",
       "      <th>Review Text</th>\n",
       "      <th>Date of Review</th>\n",
       "      <th>Birth Year</th>\n",
       "      <th>Marital Status</th>\n",
       "      <th>Has Children?</th>\n",
       "      <th>Vegetarian?</th>\n",
       "      <th>Weight (lb)</th>\n",
       "      <th>Height (in)</th>\n",
       "      <th>Average Amount Spent</th>\n",
       "      <th>Preferred Mode of Transport</th>\n",
       "      <th>Northwestern Student?</th>\n",
       "    </tr>\n",
       "  </thead>\n",
       "  <tbody>\n",
       "    <tr>\n",
       "      <th>0</th>\n",
       "      <td>Connie Neal</td>\n",
       "      <td>Lao Sze Chuan</td>\n",
       "      <td>1</td>\n",
       "      <td>Really disappointed for the dishes…. Not athle...</td>\n",
       "      <td>2022-08-10 00:00:00</td>\n",
       "      <td>1942.0</td>\n",
       "      <td>Single</td>\n",
       "      <td>No</td>\n",
       "      <td>NaN</td>\n",
       "      <td>234.0</td>\n",
       "      <td>161.0</td>\n",
       "      <td>Medium</td>\n",
       "      <td>Car Owner</td>\n",
       "      <td>No</td>\n",
       "    </tr>\n",
       "  </tbody>\n",
       "</table>\n",
       "</div>"
      ],
      "text/plain": [
       "  Reviewer Name Restaurant Name  Rating  \\\n",
       "0   Connie Neal   Lao Sze Chuan       1   \n",
       "\n",
       "                                         Review Text       Date of Review  \\\n",
       "0  Really disappointed for the dishes…. Not athle...  2022-08-10 00:00:00   \n",
       "\n",
       "   Birth Year Marital Status Has Children? Vegetarian?  Weight (lb)  \\\n",
       "0      1942.0         Single            No         NaN        234.0   \n",
       "\n",
       "   Height (in) Average Amount Spent Preferred Mode of Transport  \\\n",
       "0        161.0               Medium                   Car Owner   \n",
       "\n",
       "  Northwestern Student?  \n",
       "0                    No  "
      ]
     },
     "execution_count": 3,
     "metadata": {},
     "output_type": "execute_result"
    }
   ],
   "source": [
    "dfrev = pd.read_excel(r'C:\\Users\\eywy0\\Downloads\\RestaurantReviews.xlsx','Reviews')\n",
    "dfrev.head(1)"
   ]
  },
  {
   "cell_type": "code",
   "execution_count": 4,
   "id": "abd5463a-1ac0-4f2e-a64c-d1a5743b8bb9",
   "metadata": {
    "tags": []
   },
   "outputs": [
    {
     "data": {
      "text/html": [
       "<div>\n",
       "<style scoped>\n",
       "    .dataframe tbody tr th:only-of-type {\n",
       "        vertical-align: middle;\n",
       "    }\n",
       "\n",
       "    .dataframe tbody tr th {\n",
       "        vertical-align: top;\n",
       "    }\n",
       "\n",
       "    .dataframe thead th {\n",
       "        text-align: right;\n",
       "    }\n",
       "</style>\n",
       "<table border=\"1\" class=\"dataframe\">\n",
       "  <thead>\n",
       "    <tr style=\"text-align: right;\">\n",
       "      <th></th>\n",
       "      <th>Restaurant Name</th>\n",
       "      <th>Cuisine</th>\n",
       "      <th>Latitude</th>\n",
       "      <th>Longitude</th>\n",
       "      <th>Average Cost</th>\n",
       "      <th>Open After 8pm?</th>\n",
       "      <th>Brief Description</th>\n",
       "    </tr>\n",
       "  </thead>\n",
       "  <tbody>\n",
       "    <tr>\n",
       "      <th>0</th>\n",
       "      <td>Tapas Barcelona</td>\n",
       "      <td>Spanish</td>\n",
       "      <td>42.046736</td>\n",
       "      <td>-87.679043</td>\n",
       "      <td>20</td>\n",
       "      <td>Yes</td>\n",
       "      <td>Festive, warm space known for Spanish small pl...</td>\n",
       "    </tr>\n",
       "  </tbody>\n",
       "</table>\n",
       "</div>"
      ],
      "text/plain": [
       "   Restaurant Name  Cuisine   Latitude  Longitude  Average Cost  \\\n",
       "0  Tapas Barcelona  Spanish  42.046736 -87.679043            20   \n",
       "\n",
       "  Open After 8pm?                                  Brief Description  \n",
       "0             Yes  Festive, warm space known for Spanish small pl...  "
      ]
     },
     "execution_count": 4,
     "metadata": {},
     "output_type": "execute_result"
    }
   ],
   "source": [
    "dfres = pd.read_excel(r'C:\\Users\\eywy0\\Downloads\\RestaurantReviews.xlsx','Restaurants')\n",
    "dfres.head(1)"
   ]
  },
  {
   "cell_type": "code",
   "execution_count": 5,
   "id": "78f0090b-95d1-405d-af51-66ad2ef4213c",
   "metadata": {
    "tags": []
   },
   "outputs": [
    {
     "data": {
      "text/plain": [
       "{'Review Text': 550,\n",
       " 'Birth Year': 2,\n",
       " 'Marital Status': 35,\n",
       " 'Has Children?': 38,\n",
       " 'Vegetarian?': 1350,\n",
       " 'Weight (lb)': 97,\n",
       " 'Height (in)': 54,\n",
       " 'Average Amount Spent': 2,\n",
       " 'Preferred Mode of Transport': 7,\n",
       " 'Northwestern Student?': 1}"
      ]
     },
     "execution_count": 5,
     "metadata": {},
     "output_type": "execute_result"
    }
   ],
   "source": [
    "# Looking into Misssing Values\n",
    "\n",
    "missingrev,missingres={},{}\n",
    "for col in dfrev.columns:\n",
    "    if dfrev[col].isnull().values.any(): missingrev[col]=dfrev[col].isnull().sum()\n",
    "    \n",
    "for col in dfres.columns:\n",
    "    if dfres[col].isnull().values.any(): missingres[col]=dfres[col].isnull().sum()\n",
    "    \n",
    "missingrev\n",
    "# missingres"
   ]
  },
  {
   "cell_type": "code",
   "execution_count": 6,
   "id": "c68002a1-447a-48c6-a125-1dd92b9cbee8",
   "metadata": {
    "collapsed": true,
    "jupyter": {
     "outputs_hidden": true
    },
    "tags": []
   },
   "outputs": [
    {
     "name": "stdout",
     "output_type": "stream",
     "text": [
      "Rating            4.137931\n",
      "Birth Year     1986.241379\n",
      "Weight (lb)     183.862069\n",
      "Height (in)     173.827586\n",
      "dtype: float64\n",
      "Rating            3.138462\n",
      "Birth Year     1979.630769\n",
      "Weight (lb)     189.453125\n",
      "Height (in)     175.437500\n",
      "dtype: float64\n",
      "Rating            3.774074\n",
      "Birth Year     1978.267062\n",
      "Vegetarian?            NaN\n",
      "Weight (lb)     205.236842\n",
      "Height (in)     172.018504\n",
      "dtype: float64\n"
     ]
    }
   ],
   "source": [
    "# Investigating in the data points with 'Vegetarian?' filled\n",
    "\n",
    "print(dfrev[dfrev['Vegetarian?']=='Yes'].mean())\n",
    "print(dfrev[dfrev['Vegetarian?']=='No'].mean())\n",
    "print(dfrev[dfrev['Vegetarian?']!=dfrev['Vegetarian?']].mean())"
   ]
  },
  {
   "cell_type": "code",
   "execution_count": 159,
   "id": "850e86ba-ce64-49c7-90ce-48fa2becc886",
   "metadata": {},
   "outputs": [
    {
     "ename": "IndentationError",
     "evalue": "unexpected indent (1063677759.py, line 4)",
     "output_type": "error",
     "traceback": [
      "\u001b[1;36m  Input \u001b[1;32mIn [159]\u001b[1;36m\u001b[0m\n\u001b[1;33m    ['Marital Status','Has Children?','Vegetarian?'],\u001b[0m\n\u001b[1;37m    ^\u001b[0m\n\u001b[1;31mIndentationError\u001b[0m\u001b[1;31m:\u001b[0m unexpected indent\n"
     ]
    }
   ],
   "source": [
    "# Dealing with Misssing Values\n",
    "\n",
    "drops,skeeps,nkeeps=['Birth Year','Average Amount Spent','Preferred Mode of Transport','Northwestern Student?'], ['Marital Status','Has Children?','Vegetarian?'], ['Weight (lb)','Height (in)']\n",
    "for keep in skeeps:\n",
    "    dfrev[keep]=dfrev[keep].fillna('missing')\n",
    "for keep in nkeeps:\n",
    "    dfrev[keep]=dfrev[keep].fillna(0)\n",
    "for drop in drops:\n",
    "    dfrev=dfrev[dfrev[drop].notna()]\n",
    "    \n",
    "dfrev.head(1)"
   ]
  },
  {
   "cell_type": "code",
   "execution_count": 8,
   "id": "eceaf2e0-deb4-4ecd-b599-aded073581dd",
   "metadata": {
    "tags": []
   },
   "outputs": [
    {
     "data": {
      "text/plain": [
       "Text(0, 0.5, 'Frequency')"
      ]
     },
     "execution_count": 8,
     "metadata": {},
     "output_type": "execute_result"
    },
    {
     "data": {
      "image/png": "[encoded data removed]",
      "text/plain": [
       "<Figure size 504x288 with 1 Axes>"
      ]
     },
     "metadata": {
      "needs_background": "light"
     },
     "output_type": "display_data"
    }
   ],
   "source": [
    "# Plot\n",
    "\n",
    "ax = dfrev['Average Amount Spent'].value_counts().plot(kind='bar',\n",
    "                                    figsize=(7,4),\n",
    "                                    title='Average Amount Spent')\n",
    "ax.set_xlabel('Average Amount Spent')\n",
    "ax.set_ylabel(\"Frequency\")"
   ]
  },
  {
   "cell_type": "code",
   "execution_count": 9,
   "id": "597aa2df-0580-4dc9-8684-266b33828afb",
   "metadata": {
    "tags": []
   },
   "outputs": [
    {
     "data": {
      "image/png": "[encoded data removed]",
      "text/plain": [
       "<Figure size 504x288 with 1 Axes>"
      ]
     },
     "metadata": {
      "needs_background": "light"
     },
     "output_type": "display_data"
    }
   ],
   "source": [
    "ax = dfres['Cuisine'].value_counts().plot(kind='bar',\n",
    "                                    figsize=(7,4),\n",
    "                                    title=\"Cuisine\")"
   ]
  },
  {
   "cell_type": "code",
   "execution_count": 9,
   "id": "9d6cdd5f-01cb-432f-b533-ce81814923f9",
   "metadata": {
    "collapsed": true,
    "jupyter": {
     "outputs_hidden": true
    },
    "tags": []
   },
   "outputs": [
    {
     "data": {
      "text/html": [
       "<div>\n",
       "<style scoped>\n",
       "    .dataframe tbody tr th:only-of-type {\n",
       "        vertical-align: middle;\n",
       "    }\n",
       "\n",
       "    .dataframe tbody tr th {\n",
       "        vertical-align: top;\n",
       "    }\n",
       "\n",
       "    .dataframe thead th {\n",
       "        text-align: right;\n",
       "    }\n",
       "</style>\n",
       "<table border=\"1\" class=\"dataframe\">\n",
       "  <thead>\n",
       "    <tr style=\"text-align: right;\">\n",
       "      <th></th>\n",
       "      <th>Reviewer Name</th>\n",
       "      <th>Restaurant Name</th>\n",
       "      <th>Rating</th>\n",
       "      <th>Review Text</th>\n",
       "      <th>Date of Review</th>\n",
       "      <th>Birth Year</th>\n",
       "      <th>Weight (lb)</th>\n",
       "      <th>Height (in)</th>\n",
       "      <th>Marital Status_Married</th>\n",
       "      <th>Marital Status_Single</th>\n",
       "      <th>...</th>\n",
       "      <th>Average Amount Spent_Low</th>\n",
       "      <th>Average Amount Spent_Medium</th>\n",
       "      <th>Preferred Mode of Transport_Car Owner</th>\n",
       "      <th>Preferred Mode of Transport_On Foot</th>\n",
       "      <th>Preferred Mode of Transport_Public Transit</th>\n",
       "      <th>Northwestern Student?_No</th>\n",
       "      <th>Northwestern Student?_Yes</th>\n",
       "      <th>Vegetarian?_No</th>\n",
       "      <th>Vegetarian?_Yes</th>\n",
       "      <th>Vegetarian?_missing</th>\n",
       "    </tr>\n",
       "  </thead>\n",
       "  <tbody>\n",
       "    <tr>\n",
       "      <th>0</th>\n",
       "      <td>Connie Neal</td>\n",
       "      <td>Lao Sze Chuan</td>\n",
       "      <td>1</td>\n",
       "      <td>Really disappointed for the dishes…. Not athle...</td>\n",
       "      <td>2022-08-10 00:00:00</td>\n",
       "      <td>1942.0</td>\n",
       "      <td>234.0</td>\n",
       "      <td>161.0</td>\n",
       "      <td>0</td>\n",
       "      <td>1</td>\n",
       "      <td>...</td>\n",
       "      <td>0</td>\n",
       "      <td>1</td>\n",
       "      <td>1</td>\n",
       "      <td>0</td>\n",
       "      <td>0</td>\n",
       "      <td>1</td>\n",
       "      <td>0</td>\n",
       "      <td>0</td>\n",
       "      <td>0</td>\n",
       "      <td>1</td>\n",
       "    </tr>\n",
       "    <tr>\n",
       "      <th>1</th>\n",
       "      <td>Jacquelyn Rigatti</td>\n",
       "      <td>Barn Steakhouse</td>\n",
       "      <td>5</td>\n",
       "      <td>Excellent meal in a warm atmosphere! The space...</td>\n",
       "      <td>2022-11-22 00:00:00</td>\n",
       "      <td>1998.0</td>\n",
       "      <td>0.0</td>\n",
       "      <td>0.0</td>\n",
       "      <td>0</td>\n",
       "      <td>1</td>\n",
       "      <td>...</td>\n",
       "      <td>0</td>\n",
       "      <td>1</td>\n",
       "      <td>0</td>\n",
       "      <td>1</td>\n",
       "      <td>0</td>\n",
       "      <td>1</td>\n",
       "      <td>0</td>\n",
       "      <td>0</td>\n",
       "      <td>0</td>\n",
       "      <td>1</td>\n",
       "    </tr>\n",
       "    <tr>\n",
       "      <th>2</th>\n",
       "      <td>Jacquelyn Rigatti</td>\n",
       "      <td>Brothers K Coffeehouse</td>\n",
       "      <td>4</td>\n",
       "      <td>NaN</td>\n",
       "      <td>2022-08-18 00:00:00</td>\n",
       "      <td>1998.0</td>\n",
       "      <td>0.0</td>\n",
       "      <td>0.0</td>\n",
       "      <td>0</td>\n",
       "      <td>1</td>\n",
       "      <td>...</td>\n",
       "      <td>0</td>\n",
       "      <td>1</td>\n",
       "      <td>0</td>\n",
       "      <td>1</td>\n",
       "      <td>0</td>\n",
       "      <td>1</td>\n",
       "      <td>0</td>\n",
       "      <td>0</td>\n",
       "      <td>0</td>\n",
       "      <td>1</td>\n",
       "    </tr>\n",
       "    <tr>\n",
       "      <th>3</th>\n",
       "      <td>Jacquelyn Rigatti</td>\n",
       "      <td>Clarkes Off Campus</td>\n",
       "      <td>5</td>\n",
       "      <td>Best burger in Evanston</td>\n",
       "      <td>2022-10-30 00:00:00</td>\n",
       "      <td>1998.0</td>\n",
       "      <td>0.0</td>\n",
       "      <td>0.0</td>\n",
       "      <td>0</td>\n",
       "      <td>1</td>\n",
       "      <td>...</td>\n",
       "      <td>0</td>\n",
       "      <td>1</td>\n",
       "      <td>0</td>\n",
       "      <td>1</td>\n",
       "      <td>0</td>\n",
       "      <td>1</td>\n",
       "      <td>0</td>\n",
       "      <td>0</td>\n",
       "      <td>0</td>\n",
       "      <td>1</td>\n",
       "    </tr>\n",
       "    <tr>\n",
       "      <th>4</th>\n",
       "      <td>Jacquelyn Rigatti</td>\n",
       "      <td>Edzo's Burger Shop</td>\n",
       "      <td>5</td>\n",
       "      <td>Second best burger in Evanston</td>\n",
       "      <td>2022-11-28 00:00:00</td>\n",
       "      <td>1998.0</td>\n",
       "      <td>0.0</td>\n",
       "      <td>0.0</td>\n",
       "      <td>0</td>\n",
       "      <td>1</td>\n",
       "      <td>...</td>\n",
       "      <td>0</td>\n",
       "      <td>1</td>\n",
       "      <td>0</td>\n",
       "      <td>1</td>\n",
       "      <td>0</td>\n",
       "      <td>1</td>\n",
       "      <td>0</td>\n",
       "      <td>0</td>\n",
       "      <td>0</td>\n",
       "      <td>1</td>\n",
       "    </tr>\n",
       "  </tbody>\n",
       "</table>\n",
       "<p>5 rows × 26 columns</p>\n",
       "</div>"
      ],
      "text/plain": [
       "       Reviewer Name         Restaurant Name  Rating  \\\n",
       "0        Connie Neal           Lao Sze Chuan       1   \n",
       "1  Jacquelyn Rigatti         Barn Steakhouse       5   \n",
       "2  Jacquelyn Rigatti  Brothers K Coffeehouse       4   \n",
       "3  Jacquelyn Rigatti      Clarkes Off Campus       5   \n",
       "4  Jacquelyn Rigatti      Edzo's Burger Shop       5   \n",
       "\n",
       "                                         Review Text       Date of Review  \\\n",
       "0  Really disappointed for the dishes…. Not athle...  2022-08-10 00:00:00   \n",
       "1  Excellent meal in a warm atmosphere! The space...  2022-11-22 00:00:00   \n",
       "2                                                NaN  2022-08-18 00:00:00   \n",
       "3                            Best burger in Evanston  2022-10-30 00:00:00   \n",
       "4                     Second best burger in Evanston  2022-11-28 00:00:00   \n",
       "\n",
       "   Birth Year  Weight (lb)  Height (in)  Marital Status_Married  \\\n",
       "0      1942.0        234.0        161.0                       0   \n",
       "1      1998.0          0.0          0.0                       0   \n",
       "2      1998.0          0.0          0.0                       0   \n",
       "3      1998.0          0.0          0.0                       0   \n",
       "4      1998.0          0.0          0.0                       0   \n",
       "\n",
       "   Marital Status_Single  ...  Average Amount Spent_Low  \\\n",
       "0                      1  ...                         0   \n",
       "1                      1  ...                         0   \n",
       "2                      1  ...                         0   \n",
       "3                      1  ...                         0   \n",
       "4                      1  ...                         0   \n",
       "\n",
       "   Average Amount Spent_Medium  Preferred Mode of Transport_Car Owner  \\\n",
       "0                            1                                      1   \n",
       "1                            1                                      0   \n",
       "2                            1                                      0   \n",
       "3                            1                                      0   \n",
       "4                            1                                      0   \n",
       "\n",
       "   Preferred Mode of Transport_On Foot  \\\n",
       "0                                    0   \n",
       "1                                    1   \n",
       "2                                    1   \n",
       "3                                    1   \n",
       "4                                    1   \n",
       "\n",
       "   Preferred Mode of Transport_Public Transit  Northwestern Student?_No  \\\n",
       "0                                           0                         1   \n",
       "1                                           0                         1   \n",
       "2                                           0                         1   \n",
       "3                                           0                         1   \n",
       "4                                           0                         1   \n",
       "\n",
       "   Northwestern Student?_Yes  Vegetarian?_No  Vegetarian?_Yes  \\\n",
       "0                          0               0                0   \n",
       "1                          0               0                0   \n",
       "2                          0               0                0   \n",
       "3                          0               0                0   \n",
       "4                          0               0                0   \n",
       "\n",
       "   Vegetarian?_missing  \n",
       "0                    1  \n",
       "1                    1  \n",
       "2                    1  \n",
       "3                    1  \n",
       "4                    1  \n",
       "\n",
       "[5 rows x 26 columns]"
      ]
     },
     "execution_count": 9,
     "metadata": {},
     "output_type": "execute_result"
    }
   ],
   "source": [
    "# encoder = OneHotEncoder(sparse=False)\n",
    "\n",
    "catvar=['Marital Status','Has Children?','Average Amount Spent','Preferred Mode of Transport','Northwestern Student?','Vegetarian?']\n",
    "\n",
    "newdfrev = pd.get_dummies(dfrev, columns = catvar)\n",
    "newdfrev['Marital Status_Single']=newdfrev['Marital Status_Single']+newdfrev['Marital Status_SIngle']\n",
    "newdfrev=newdfrev.drop('Marital Status_SIngle',axis=1)\n",
    "newdfrev.head()"
   ]
  },
  {
   "cell_type": "code",
   "execution_count": 8,
   "id": "520cd7c0-a63a-4014-90f6-d0caa6538b35",
   "metadata": {},
   "outputs": [
    {
     "data": {
      "image/png": "[encoded data removed]",
      "text/plain": [
       "<Figure size 432x288 with 1 Axes>"
      ]
     },
     "metadata": {
      "needs_background": "light"
     },
     "output_type": "display_data"
    }
   ],
   "source": [
    "K = range(1,11)\n",
    "catdf=newdfrev.copy()\n",
    "catdf=catdf.drop(['Reviewer Name','Restaurant Name','Rating','Review Text','Date of Review','Weight (lb)','Height (in)'],axis=1)\n",
    "\n",
    "# inertia = []\n",
    "# for k in K:\n",
    "#     kmeans = KMeans(n_clusters=k)\n",
    "#     kmeans.fit(catdf)\n",
    "#     inertia.append(kmeans.inertia_)\n",
    "\n",
    "# silhouette=[]\n",
    "# for k in K:\n",
    "#     kmeans = KMeans(n_clusters=k)\n",
    "#     kmeans.fit(catdf)\n",
    "#     score=silhouette_score(catdf, kmeans.labels_)\n",
    "#     silhouette.append(score)\n",
    "    \n",
    "db=[]\n",
    "for k in K:\n",
    "    dbscan=DBSCAN(eps=2/k)  \n",
    "    dbscan.fit(catdf)\n",
    "    score=silhouette_score(catdf, dbscan.labels_)\n",
    "    db.append(score)\n",
    "\n",
    "# Plot the elbow\n",
    "plt.plot(K, db, 'bx-')\n",
    "plt.xlabel('k')\n",
    "plt.ylabel('dbScan')\n",
    "plt.show()"
   ]
  },
  {
   "cell_type": "code",
   "execution_count": 12,
   "id": "ee24f6ca-15ca-4352-80f1-0accc10a24f2",
   "metadata": {
    "collapsed": true,
    "jupyter": {
     "outputs_hidden": true
    },
    "tags": []
   },
   "outputs": [
    {
     "ename": "NameError",
     "evalue": "name 'data_encoded' is not defined",
     "output_type": "error",
     "traceback": [
      "\u001b[1;31m---------------------------------------------------------------------------\u001b[0m",
      "\u001b[1;31mNameError\u001b[0m                                 Traceback (most recent call last)",
      "Input \u001b[1;32mIn [12]\u001b[0m, in \u001b[0;36m<cell line: 2>\u001b[1;34m()\u001b[0m\n\u001b[0;32m      1\u001b[0m kmeans \u001b[38;5;241m=\u001b[39m KMeans(n_clusters\u001b[38;5;241m=\u001b[39m\u001b[38;5;241m2\u001b[39m, random_state\u001b[38;5;241m=\u001b[39m\u001b[38;5;241m0\u001b[39m)\n\u001b[1;32m----> 2\u001b[0m labels \u001b[38;5;241m=\u001b[39m kmeans\u001b[38;5;241m.\u001b[39mfit_predict(\u001b[43mdata_encoded\u001b[49m\u001b[38;5;241m.\u001b[39mtoarray())\n\u001b[0;32m      4\u001b[0m dbscan\u001b[38;5;241m=\u001b[39mDBSCAN(eps\u001b[38;5;241m=\u001b[39m\u001b[38;5;241m2\u001b[39m)\n\u001b[0;32m      5\u001b[0m dbscan\u001b[38;5;241m.\u001b[39mfit(catdf)\n",
      "\u001b[1;31mNameError\u001b[0m: name 'data_encoded' is not defined"
     ]
    }
   ],
   "source": [
    "kmeans = KMeans(n_clusters=2, random_state=0)\n",
    "labels = kmeans.fit_predict(data_encoded.toarray())\n",
    "\n",
    "dbscan=DBSCAN(eps=2)\n",
    "dbscan.fit(catdf)\n",
    "\n",
    "agg=AgglomerativeClustering(n_clusters=2, affinity='euclidean', linkage='ward')\n",
    "labelsagg = agg.fit_predict(data_encoded.toarray())\n",
    "\n",
    "# dfrev['labels'] = labels\n",
    "# sns.pairplot(dfrev, hue='labels')\n",
    "# sns.pairplot(dfrev[dfrev['labels']==0], hue='labels')\n",
    "# sns.pairplot(dfrev[dfrev['labels']==1], hue='labels',palette='OrRd')\n",
    "# sns.pairplot(newdfrev, hue='labels')\n",
    "\n",
    "newdfrev"
   ]
  },
  {
   "cell_type": "code",
   "execution_count": null,
   "id": "c1bb6c5d-04e2-446c-bd5a-f5863be2c712",
   "metadata": {},
   "outputs": [],
   "source": [
    "pd.set_option('display.max_columns', None)\n",
    "newdfrev['labels'] = labels\n",
    "newdfrev.groupby(['labels']).sum()"
   ]
  },
  {
   "cell_type": "code",
   "execution_count": null,
   "id": "a2217c57-9775-47b3-bad1-8932886cdffb",
   "metadata": {},
   "outputs": [],
   "source": [
    "newdfrev['labels'] = dbscan.labels_\n",
    "newdfrev[newdfrev['labels']==1]"
   ]
  },
  {
   "cell_type": "code",
   "execution_count": null,
   "id": "b68466d7-555e-461d-9fce-7b97ab793fe1",
   "metadata": {},
   "outputs": [],
   "source": [
    "newdfrev['labels'] = labelsagg\n",
    "newdfrev.groupby(['labels']).sum()"
   ]
  },
  {
   "cell_type": "code",
   "execution_count": null,
   "id": "b1574eb4-a20f-45a4-adcc-027ad423b529",
   "metadata": {
    "tags": []
   },
   "outputs": [],
   "source": [
    "encoder = OrdinalEncoder()\n",
    "oedfrev=dfrev.copy()\n",
    "for col in catvar:\n",
    "    oedfrev[col] = encoder.fit_transform(oedfrev[col].values.reshape(-1,1))\n",
    "    "
   ]
  },
  {
   "cell_type": "code",
   "execution_count": null,
   "id": "9d028dea-8b3e-44bb-a14b-c947eac48468",
   "metadata": {},
   "outputs": [],
   "source": [
    "# Popularity matching\n",
    "\n",
    "ratings,rates={},[]\n",
    "restaurants=set(dfrev.iloc[:,1])\n",
    "for r in restaurants:\n",
    "    ratings[r]=mean(dfrev['Rating'][dfrev['Restaurant Name']==r])\n",
    "    rates.append(mean(dfrev['Rating'][dfrev['Restaurant Name']==r]))\n",
    "    \n",
    "MED=median(rates)\n",
    "MU=mean(rates)\n",
    "# 3.92\n",
    "# 3.8004613223005332\n",
    "\n",
    "pd.DataFrame(rates).plot.density()\n",
    "# fig, ax = plt.subplots(figsize =(10, 7))\n",
    "# ax.hist(rates, bins = [max(rates)*(i/100) for i in range(101)])\n",
    "# plt.xlabel(\"transactionAmount\")\n",
    "# plt.ylabel(\"number of restaurant\")\n",
    "# plt.title(\"transactionAmount distribution\")\n",
    "# plt.show()"
   ]
  },
  {
   "cell_type": "code",
   "execution_count": null,
   "id": "fd87949a-192d-42ef-b9bd-b9f7c7b0993d",
   "metadata": {
    "tags": []
   },
   "outputs": [],
   "source": [
    "dict(sorted(ratings.items(), key=lambda item: item[1]))"
   ]
  },
  {
   "cell_type": "code",
   "execution_count": null,
   "id": "de2480a2-0ff8-45a1-81bc-b2423554a0ab",
   "metadata": {},
   "outputs": [],
   "source": [
    "dfrev.groupby(['Restaurant Name']).count()[dfrev.groupby(['Restaurant Name']).count()['Rating']==48]\n",
    "munum=median(list(dfrev.groupby(['Restaurant Name']).count()['Rating']))\n",
    "#Campagnola\n",
    "#23"
   ]
  },
  {
   "cell_type": "code",
   "execution_count": 14,
   "id": "9f91a7bc-b936-4dd2-83f4-5c5167703092",
   "metadata": {},
   "outputs": [],
   "source": [
    "# Simple reccommendation\n",
    "\n",
    "def simple_rcm(cuisine):\n",
    "    ress=list(dfres[dfres['Cuisine']==cuisine]['Restaurant Name'])\n",
    "    pop=dfrev[dfrev['Restaurant Name'].isin(ress)].groupby(['Restaurant Name']).count().reset_index()\n",
    "    pop=pop.sort_values('Rating',ascending=False)\n",
    "    return pop['Restaurant Name'][0]\n",
    "# simple_rcm('Spanish')\n",
    "\n",
    "#shrinkage estimator\n",
    "\n",
    "def shr_est(rest):\n",
    "    N=dfrev[dfrev['Restaurant Name']==rest].count()[0]\n",
    "    mu=mean(dfrev[dfrev['Restaurant Name']==rest]['Rating'])\n",
    "    a=min(1,N/munum)\n",
    "    return (1-a)*MU+a*mu\n",
    "# shr_est('Alcove')"
   ]
  },
  {
   "cell_type": "code",
   "execution_count": null,
   "id": "37d34ba1-3c1d-41a0-a41b-2e964e82340d",
   "metadata": {},
   "outputs": [],
   "source": [
    "simple_rcm('Coffee')"
   ]
  },
  {
   "cell_type": "code",
   "execution_count": null,
   "id": "07042712-9d0c-49aa-a515-2a97087daa0c",
   "metadata": {},
   "outputs": [],
   "source": [
    "difference={}\n",
    "for r in restaurants:\n",
    "    o=mean(dfrev[dfrev['Restaurant Name']==r]['Rating'])\n",
    "    s=shr_est(r)\n",
    "    difference[r]=s-o\n",
    "    \n",
    "diff=list(sorted(difference.items(), key=lambda item: item[1]))\n",
    "kdiff=diff[:3]+diff[-3:]\n",
    "pd.DataFrame(kdiff)\n",
    "\n",
    "# names = [n for (n,s) in kdiff]\n",
    "# scores = [s for (n,s) in kdiff]\n",
    "# fig = plt.figure(figsize = (12,7))\n",
    "# plt.bar(names, scores)\n",
    "# plt.xlabel(\"Restaurant Name\")\n",
    "# plt.ylabel(\"Score difference\")\n",
    "# plt.title(\"Score difference top k by maginitude\")\n",
    "# plt.show()"
   ]
  },
  {
   "cell_type": "code",
   "execution_count": 13,
   "id": "918b56ce-d293-4701-8126-d2827e1eb37f",
   "metadata": {},
   "outputs": [],
   "source": [
    "# Content based filtering\n",
    "\n",
    "euclids,cosines={},{}\n",
    "    \n",
    "for i in range(63):\n",
    "    for j in range(i+1,63):\n",
    "        a,b=dfres.iloc[i],dfres.iloc[j]\n",
    "        euclids[(a['Restaurant Name'],b['Restaurant Name'])]=(a['Cuisine']!=b['Cuisine'])+abs(a['Average Cost']-b['Average Cost'])/37+(a['Open After 8pm?']!=b['Open After 8pm?'])\n",
    "\n",
    "for i in range(63):\n",
    "    for j in range(i+1,63):\n",
    "        a,b=dfres.iloc[i],dfres.iloc[j]\n",
    "        dot=(a['Cuisine']!=b['Cuisine'])+a['Average Cost']*b['Average Cost']/2500+(a['Open After 8pm?']!=b['Open After 8pm?'])\n",
    "        maga,magb=sqrt(1+(a['Average Cost']/50)**2+1),sqrt(1+(b['Average Cost']/50)**2+1)\n",
    "        cosines[(a['Restaurant Name'],b['Restaurant Name'])]=dot/(maga*magb)\n",
    "        "
   ]
  },
  {
   "cell_type": "code",
   "execution_count": null,
   "id": "bab12968-dc4e-439e-a410-15d4e3c6d96d",
   "metadata": {
    "tags": []
   },
   "outputs": [],
   "source": [
    "def cbf_rcm(user):\n",
    "    tried=dfrev[(dfrev['Reviewer Name']==user)]['Restaurant Name']\n",
    "    likes=dfrev[(dfrev['Reviewer Name']==user) & (dfrev['Rating']>=4)]['Restaurant Name']\n",
    "    pool=dfres[~dfres['Restaurant Name'].isin(tried)]['Restaurant Name']\n",
    "    cand={}\n",
    "    for r in pool:\n",
    "        for rr in likes:\n",
    "            if (r,rr) in euclids.keys():\n",
    "                cand[r]=min(euclids[(r,rr)],cand.get(r,10))\n",
    "            elif (rr,r) in euclids.keys():\n",
    "                cand[r]=min(euclids[(rr,r)],cand.get(r,10))\n",
    "            else:\n",
    "                cand[r]=10\n",
    "    candrank=list(sorted(cand.items(), key=lambda item: item[1]))\n",
    "    return [res for (res,sco) in candrank[:10] if sco<=1]\n",
    "\n",
    "def cbf_rcm_rest(rest):\n",
    "    pool=dfres[~dfres['Restaurant Name'].isin([rest])]['Restaurant Name']\n",
    "    cand={}\n",
    "    for r in pool:\n",
    "        if (r,rest) in euclids.keys():\n",
    "            cand[r]=euclids[(r,rest)]\n",
    "        elif (rest,r) in euclids.keys():\n",
    "            cand[r]=euclids[(rest,r)]\n",
    "        else:\n",
    "            cand[r]=10\n",
    "    candrank=list(sorted(cand.items(), key=lambda item: item[1]))\n",
    "    return [res for (res,sco) in candrank[:10] if sco<=1]\n",
    "\n",
    "print(cbf_rcm('Jennifer Armagost'))\n",
    "cbf_rcm_rest('Taste of Nepal')"
   ]
  },
  {
   "cell_type": "code",
   "execution_count": 12,
   "id": "5f4ab2b3-b632-4912-ba75-677f4d998178",
   "metadata": {},
   "outputs": [
    {
     "data": {
      "text/plain": [
       "1.0"
      ]
     },
     "execution_count": 12,
     "metadata": {},
     "output_type": "execute_result"
    }
   ],
   "source": [
    "# Natural language analysis\n",
    "\n",
    "def rep(string):\n",
    "    return string.replace('&','').replace(',','').replace('.','').lower().split()\n",
    "\n",
    "dfres['Augmented Description']=dfres['Brief Description']+' '+dfres['Cuisine']+' '\n",
    "jaccard=[ [ None for y in range(63) ] for x in range(63) ]\n",
    "for i in range(63):\n",
    "    for j in range(63):\n",
    "        r1des,r2des=dfres['Augmented Description'][i],dfres['Augmented Description'][j]\n",
    "        r1,r2=rep(r1des),rep(r2des)\n",
    "        common=len(set(r1).intersection(r2))\n",
    "        unique=len(set(r1+r2))\n",
    "        jaccard[i][j]=common/unique\n",
    "        \n",
    "jaccard[1][1]"
   ]
  },
  {
   "cell_type": "code",
   "execution_count": null,
   "id": "e85add23-11e2-4c73-af89-6dd35fc0a73f",
   "metadata": {},
   "outputs": [],
   "source": [
    "total=\"\"\n",
    "for des in dfres['Augmented Description']:\n",
    "    total=total+des.lower()\n",
    "\n",
    "def tfidf(word):\n",
    "    tfidf=[]\n",
    "    idf=log(len(rep(total))/sum(1 for _ in re.finditer(r'\\b%s\\b' % re.escape(word), total)))\n",
    "    for r in dfres['Augmented Description']:\n",
    "        tf=sum(1 for _ in re.finditer(r'\\b%s\\b' % re.escape(word), r.lower()))/len(rep(r))\n",
    "        tfidf.append(tf*idf)\n",
    "    return tfidf\n",
    "\n",
    "def find(word):\n",
    "    return dfres['Restaurant Name'][tfidf(word).index(max(tfidf(word)))]\n",
    "\n",
    "find('chinese')"
   ]
  },
  {
   "cell_type": "code",
   "execution_count": null,
   "id": "0b96d18c-a85a-4b74-8959-0704e8f81b84",
   "metadata": {},
   "outputs": [],
   "source": [
    "occ={}\n",
    "for w in set(rep(total)):\n",
    "    occ[w]=rep(total).count(w)\n",
    "heap = [(value, key) for key,value in occ.items()]\n",
    "largest = heapq.nlargest(100, heap)\n",
    "wordlists=[words for (n,words) in largest]\n",
    "           \n",
    "pop_tfidf=[]\n",
    "for w in wordlists:\n",
    "    pop_tfidf.append(tfidf(w))"
   ]
  },
  {
   "cell_type": "code",
   "execution_count": null,
   "id": "3eade83b-33f0-4b58-82fd-44315b2993d7",
   "metadata": {},
   "outputs": [],
   "source": [
    "tfidf_dis=[ [ None for y in range(63) ] for x in range(63) ]\n",
    "for i in range(63):\n",
    "    for j in range(63):\n",
    "        v1,v2=np.array(pop_tfidf[i]),np.array(pop_tfidf[j])\n",
    "        tfidf_dis[i][j]=np.linalg.norm(v1-v2)"
   ]
  },
  {
   "cell_type": "code",
   "execution_count": null,
   "id": "cce12d59-a5e8-4b2d-b86a-c11dfe08edd2",
   "metadata": {},
   "outputs": [],
   "source": [
    "# BERT or Word2Vec\n",
    "model=SentenceTransformer('all-MiniLM-L6-v2')\n",
    "sentences=[des for des in dfres['Augmented Description']]\n",
    "emb=model.encode(sentences)\n",
    "bert_dis=[ [ None for y in range(63) ] for x in range(63) ]\n",
    "for i in range(63):\n",
    "    for j in range(63):\n",
    "        v1,v2=np.array(emb[i]),np.array(emb[j])\n",
    "        bert_dis[i][j]=np.linalg.norm(v1-v2)"
   ]
  },
  {
   "cell_type": "code",
   "execution_count": null,
   "id": "2658217e-af65-4dfb-a73c-4e31a8fb77eb",
   "metadata": {},
   "outputs": [],
   "source": [
    "# Comparing recommendations\n",
    "rest=dfres['Restaurant Name'].values\n",
    "\n",
    "def evaluate(matrix):\n",
    "    avgdis,usercount=0,0\n",
    "    for user in dfrev['Reviewer Name'].values[:]:\n",
    "        usercount+=1\n",
    "        likes=dfrev[(dfrev['Reviewer Name']==user) & (dfrev['Rating']>=4)]['Restaurant Name']\n",
    "        totaldis=0\n",
    "        if len(likes)>=2:\n",
    "            rescount=0\n",
    "            for a,b in it.combinations(likes,2):\n",
    "                if a in rest and b in rest:\n",
    "                    rescount+=1\n",
    "                    aa,bb=np.where(dfres['Restaurant Name'] ==a)[0].flat[0],np.where(dfres['Restaurant Name'] ==b)[0].flat[0]\n",
    "                    totaldis+=matrix[aa][bb]\n",
    "            avgdis+=totaldis/rescount\n",
    "    return avgdis/usercount\n",
    "\n",
    "def topkdis(matrix,k):\n",
    "    meandis=(np.array(matrix)).mean()\n",
    "    kdis=0\n",
    "    for i in range(63):\n",
    "        kdis+=mean(sorted(matrix[:][i])[:k])\n",
    "    return kdis/63\n",
    "\n",
    "k=5\n",
    "comlst=[evaluate(bert_dis),evaluate(tfidf_dis,k),evaluate(jaccard)]\n",
    "# meanlst=[topkdis(bert_dis,k),topkdis(tfidf_dis,k),topkdis(jaccard,k)]\n",
    "\n",
    "[i / j for i, j in zip(comlst,meanlst)]\n",
    "\n",
    "# dflike=dfrev[dfrev['Rating']>=4]\n",
    "# dfcount=dflike.groupby('Reviewer Name').count().reset_index()\n",
    "# keeps=dfcount[dfcount['Restaurant Name']>1]['Reviewer Name']\n",
    "# test=dfrev[dfrev['Reviewer Name'].isin(keeps)]"
   ]
  },
  {
   "cell_type": "code",
   "execution_count": null,
   "id": "a81aa86e-8fc6-40b8-9f8c-21b6d6e24e88",
   "metadata": {},
   "outputs": [],
   "source": [
    "k=3\n",
    "meanlst=[(np.array(bert_dis)).mean(),(np.array(tfidf_dis)).mean(),(np.array(jaccard)).mean()]\n",
    "[i / j for i, j in zip(comlst,meanlst)]"
   ]
  },
  {
   "cell_type": "code",
   "execution_count": null,
   "id": "6bc8ec83-7a9e-4e2c-b839-a8e60ed509ae",
   "metadata": {},
   "outputs": [],
   "source": [
    "rest=dfres['Restaurant Name'].values\n",
    "avgdis,usercount=0,0\n",
    "for user in dfrev['Reviewer Name'].values[:2]:\n",
    "    usercount+=1\n",
    "    likes=dfrev[(dfrev['Reviewer Name']==user) & (dfrev['Rating']>=4)]['Restaurant Name']\n",
    "    print(likes)\n",
    "    totaldis=0\n",
    "    if len(likes)>=2:\n",
    "        for a,b in it.combinations(likes,2):\n",
    "            if a in rest and b in rest:\n",
    "                aa,bb=np.where(dfres['Restaurant Name'] ==a)[0].flat[0],np.where(dfres['Restaurant Name'] ==b)[0].flat[0]\n",
    "                totaldis+=bert_dis[aa][bb]\n",
    "        avgdis+=totaldis/(len(likes)*(len(likes)-1)/2)\n",
    "        print(avgdis)"
   ]
  },
  {
   "cell_type": "code",
   "execution_count": 17,
   "id": "b655869b-d4fb-4e80-8ab0-2b66a6bd1f22",
   "metadata": {
    "tags": []
   },
   "outputs": [
    {
     "data": {
      "text/plain": [
       "(1.9093872761432864,\n",
       " [\"Edzo's Burger Shop\",\n",
       "  'Elephant & Vine',\n",
       "  'Clarkes Off Campus',\n",
       "  'Philz Coffee',\n",
       "  'Barn Steakhouse',\n",
       "  'Brothers K Coffeehouse',\n",
       "  'Kabul House',\n",
       "  'Rezas',\n",
       "  'Peppercorns Kitchen',\n",
       "  \"Claire's Korner\"])"
      ]
     },
     "execution_count": 17,
     "metadata": {},
     "output_type": "execute_result"
    }
   ],
   "source": [
    "# Collaborative Filtering\n",
    "\n",
    "enc = OneHotEncoder() \n",
    "# dfppl=newdfrev.copy().drop(['Restaurant Name','Rating','Review Text','Date of Review','labels'],axis=1)\n",
    "dfppl=newdfrev.copy().drop(['Restaurant Name','Rating','Review Text','Date of Review'],axis=1)\n",
    "dfppl=dfppl.drop_duplicates()\n",
    "dfppl=dfppl.dropna(axis=0)\n",
    "dfppl['Birth Year']=dfppl['Birth Year']/(2005-1938)\n",
    "dfppl['Weight (lb)']=dfppl['Weight (lb)']/(490-110)\n",
    "dfppl['Height (in)']=dfppl['Height (in)']/(201-123)\n",
    "# encdata = pd.DataFrame(enc.fit_transform(pd.DataFrame(dfppl[\"Cuisine\"])).toarray()) \n",
    "# encdata.columns = enc.get_feature_names([\"Cuisine\"])\n",
    "# dfppl = dfppl.join(enc_data).drop([\"Cuisine\"],axis=1)\n",
    "\n",
    "def user_dist(user):\n",
    "    diff={}\n",
    "    for u in dfppl['Reviewer Name']:\n",
    "        v1,v2=np.array(dfppl.loc[dfppl['Reviewer Name']==u].drop('Reviewer Name',axis=1)),np.array(dfppl.loc[dfppl['Reviewer Name']==user].drop('Reviewer Name',axis=1))\n",
    "        diff[u]=np.linalg.norm(v1-v2)\n",
    "    return diff\n",
    "\n",
    "# user_dist('Connie Neal')\n",
    "\n",
    "def collab_rcm(user,k):\n",
    "    userlist=user_dist(user)\n",
    "    del userlist[user]\n",
    "    other_users=list(sorted(userlist.items(), key=lambda item: item[1]))\n",
    "    rcm=list()\n",
    "    count=0\n",
    "    for other_user in other_users:\n",
    "        name=list(other_user)[0]\n",
    "        count+=1\n",
    "        likes=list(dfrev[(dfrev['Reviewer Name']==name) & (dfrev['Rating']>=4)]['Restaurant Name'].values[:])\n",
    "        if len(set(rcm+likes))>k:\n",
    "            rcm+=list(set(likes)-set(rcm))[:k-len(rcm)]\n",
    "            avg_dist=sum(n for (d,n) in other_users[:count])/count\n",
    "            return avg_dist,rcm\n",
    "        rcm+=list(set(likes)-set(rcm))[:k-len(rcm)]\n",
    "\n",
    "collab_rcm('Jennifer Armagost',10)"
   ]
  },
  {
   "cell_type": "code",
   "execution_count": 32,
   "id": "21ab52a4-4356-4c17-baa6-356f6de2bed8",
   "metadata": {
    "tags": []
   },
   "outputs": [],
   "source": [
    "review_vec={}\n",
    "users_list=list(set(dfppl['Reviewer Name']))\n",
    "for u in users_list:\n",
    "    vec=['missing' for x in range(63)]\n",
    "    reviewed_rest=list(dfrev[dfrev['Reviewer Name']==u]['Restaurant Name'].values[:])\n",
    "    for i in range(63):\n",
    "        if dfres['Restaurant Name'][i] in reviewed_rest:\n",
    "            res=dfres['Restaurant Name'][i]\n",
    "            if type(dfrev[(dfrev['Reviewer Name']==u) & (dfrev['Restaurant Name']==res)]['Review Text'].values[0])!=float:\n",
    "                vec[i]=dfrev[(dfrev['Reviewer Name']==u) & (dfrev['Restaurant Name']==res)]['Review Text'].values[0]\n",
    "    review_vec[u]=vec\n",
    "    \n",
    "# review_vec['Jennifer Armagost']\n",
    "onelist=[]\n",
    "for s in list(review_vec.values()):\n",
    "    onelist+=s"
   ]
  },
  {
   "cell_type": "code",
   "execution_count": 44,
   "id": "31e1b2e7-851f-4470-8939-03ac1169ecee",
   "metadata": {
    "tags": []
   },
   "outputs": [],
   "source": [
    "model=SentenceTransformer('all-MiniLM-L6-v2')\n",
    "revsentences=onelist\n",
    "revemb=model.encode(revsentences)\n",
    "rev_bert_dist=[ [ None for y in range(63) ] for x in range(len(review_vec))]\n",
    "for i in range(len(users_list)):\n",
    "    for j in range(63):\n",
    "        v1,v2=np.array(revemb[i*63:(i+1)*63-1]),np.array(revemb[j*63:(j+1)*63-1])\n",
    "        rev_bert_dist[i][j]=np.linalg.norm(v1-v2)"
   ]
  },
  {
   "cell_type": "code",
   "execution_count": 45,
   "id": "7b4d8d7a-61ee-463f-b708-f79da9713218",
   "metadata": {},
   "outputs": [
    {
     "data": {
      "text/plain": [
       "(1.637092643163421,\n",
       " ['Picnic',\n",
       "  'Union Pizzeria',\n",
       "  \"Sarah's Brick Oven\",\n",
       "  'Nakorn',\n",
       "  \"Hecky's BBQ\",\n",
       "  'Shangri-La Evanston',\n",
       "  'Kung Fu Tea',\n",
       "  'Joy Yee Noodle',\n",
       "  'Kansaku',\n",
       "  'Fonda Cantina'])"
      ]
     },
     "execution_count": 45,
     "metadata": {},
     "output_type": "execute_result"
    }
   ],
   "source": [
    "def collab_rcm_2(user,k):\n",
    "    userlist=user_dist(user)\n",
    "    del userlist[user]\n",
    "    other_users=sorted(rev_bert_dist[users_list.index(user)])\n",
    "    rcm=list()\n",
    "    count=0\n",
    "    for other_user in other_users:\n",
    "        name=users_list[rev_bert_dist[users_list.index(user)].index(other_user)]\n",
    "        count+=1\n",
    "        likes=list(dfrev[(dfrev['Reviewer Name']==name) & (dfrev['Rating']>=4)]['Restaurant Name'].values[:])\n",
    "        if len(set(rcm+likes))>k:\n",
    "            rcm+=list(set(likes)-set(rcm))[:k-len(rcm)]\n",
    "            avg_dist=sum(other_users[:count])/count\n",
    "            return avg_dist,rcm\n",
    "        rcm+=list(set(likes)-set(rcm))[:k-len(rcm)]\n",
    "\n",
    "collab_rcm_2('Jennifer Armagost',10)"
   ]
  },
  {
   "cell_type": "code",
   "execution_count": 246,
   "id": "c2d9805a-4208-41ee-9250-d77e2a4c193f",
   "metadata": {
    "tags": []
   },
   "outputs": [
    {
     "data": {
      "text/plain": [
       "0.009558380897973007"
      ]
     },
     "execution_count": 246,
     "metadata": {},
     "output_type": "execute_result"
    }
   ],
   "source": [
    "# Predictive modeling\n",
    "\n",
    "cuilist=[]\n",
    "for res in dfrev['Restaurant Name'].values:\n",
    "    if res in dfres['Restaurant Name'].values:\n",
    "        cuilist.append(dfres[dfres['Restaurant Name']==res]['Cuisine'].values[0])\n",
    "    else:\n",
    "        cuilist.append('missing')\n",
    "        \n",
    "newdfrev['Cuisine']=pd.DataFrame(cuilist)\n",
    "X=newdfrev[['Birth Year', 'Weight (lb)', 'Height (in)',\n",
    "       'Marital Status_Married', \n",
    "       'Marital Status_Single', 'Marital Status_Widow',\n",
    "       'Marital Status_missing', 'Has Children?_No', 'Has Children?_Yes',\n",
    "       'Has Children?_missing', 'Average Amount Spent_High',\n",
    "       'Average Amount Spent_Low', 'Average Amount Spent_Medium',\n",
    "       'Preferred Mode of Transport_Car Owner',\n",
    "       'Preferred Mode of Transport_On Foot',\n",
    "       'Preferred Mode of Transport_Public Transit',\n",
    "       'Northwestern Student?_No', 'Northwestern Student?_Yes','Cuisine']]\n",
    "# X=newdfrev[['Birth Year', 'Marital Status_Married', 'Has Children?_No', 'Average Amount Spent_High',\n",
    "#        'Average Amount Spent_Low', 'Average Amount Spent_Medium',\n",
    "#        'Preferred Mode of Transport_Car Owner',\n",
    "#        'Northwestern Student?_Yes','Cuisine']]\n",
    "X=pd.get_dummies(X, columns =['Cuisine'])\n",
    "y=newdfrev['Rating']\n",
    "X_train, X_test, y_train, y_test = train_test_split(X, y, test_size=0.25, random_state=42)\n",
    "reg = LinearRegression().fit(X_train, y_train)\n",
    "reg.score(X_test, y_test)\n",
    "\n",
    "# reg.predict(X.iloc[1050:1051])\n",
    "# y.iloc[1050]\n",
    "# 3.87846837, 5 #1055th\n",
    "# reg.coef_\n",
    "# reg.intercept_"
   ]
  },
  {
   "cell_type": "code",
   "execution_count": 273,
   "id": "25b64d97-1227-432e-af53-2c6c2520a4eb",
   "metadata": {
    "collapsed": true,
    "jupyter": {
     "outputs_hidden": true
    },
    "tags": []
   },
   "outputs": [
    {
     "data": {
      "text/plain": [
       "{'Has Children?_No': 0.13806690473170183,\n",
       " 'Average Amount Spent_Low': -0.137429646506681,\n",
       " 'Height (in)': 0.006411923512085655,\n",
       " 'Birth Year': 0.0012920371307597656,\n",
       " 'Weight (lb)': -0.0011624829843023736,\n",
       " 'Marital Status_Married': 0.0,\n",
       " 'Marital Status_Single': 0.0,\n",
       " 'Marital Status_Widow': -0.0,\n",
       " 'Marital Status_missing': -0.0,\n",
       " 'Has Children?_Yes': -0.0,\n",
       " 'Has Children?_missing': -0.0,\n",
       " 'Average Amount Spent_High': 0.0,\n",
       " 'Average Amount Spent_Medium': 0.0,\n",
       " 'Preferred Mode of Transport_Car Owner': -0.0,\n",
       " 'Preferred Mode of Transport_On Foot': 0.0,\n",
       " 'Preferred Mode of Transport_Public Transit': -0.0,\n",
       " 'Northwestern Student?_No': -0.0,\n",
       " 'Northwestern Student?_Yes': 0.0,\n",
       " 'Cuisine_American': -0.0,\n",
       " 'Cuisine_BBQ': -0.0,\n",
       " 'Cuisine_Breakfast': 0.0,\n",
       " 'Cuisine_Brewery': 0.0,\n",
       " 'Cuisine_Bubble Tea': -0.0,\n",
       " 'Cuisine_Burgers': -0.0,\n",
       " 'Cuisine_Chinese': 0.0,\n",
       " 'Cuisine_Chocolate': 0.0,\n",
       " 'Cuisine_Coffee': 0.0,\n",
       " 'Cuisine_French': -0.0,\n",
       " 'Cuisine_Irish': -0.0,\n",
       " 'Cuisine_Italian': 0.0,\n",
       " 'Cuisine_Jamaican': 0.0,\n",
       " 'Cuisine_Japanese': -0.0,\n",
       " 'Cuisine_Korean': 0.0,\n",
       " 'Cuisine_Mediterranean': -0.0,\n",
       " 'Cuisine_Mexican': -0.0,\n",
       " 'Cuisine_Pizza': 0.0,\n",
       " 'Cuisine_Salad': 0.0,\n",
       " 'Cuisine_Seafood': 0.0,\n",
       " 'Cuisine_South Asian': -0.0,\n",
       " 'Cuisine_Spanish': -0.0,\n",
       " 'Cuisine_Thai': 0.0,\n",
       " 'Cuisine_Vegetarian': 0.0,\n",
       " 'Cuisine_missing': -0.0}"
      ]
     },
     "execution_count": 273,
     "metadata": {},
     "output_type": "execute_result"
    }
   ],
   "source": [
    "# my_dict={}\n",
    "# for i in range(1,100):\n",
    "#     maxcheck=0\n",
    "#     reg = Lasso(alpha=i/100).fit(X.iloc[:1000], y.iloc[:1000])\n",
    "#     maxcheck=max(maxcheck,reg.score(X.iloc[1000:], y.iloc[1000:]))\n",
    "# print(maxcheck)\n",
    "#     # -0.015244837066697547\n",
    "#     weight={}\n",
    "#     count=0\n",
    "#     for c in reg.coef_:\n",
    "#         weight[X.columns[count]]=c\n",
    "#         count+=1\n",
    "#     get_top_k=dict(sorted(weight.items(), key=lambda item: abs(item[1]),reverse=True))\n",
    "#     count=0\n",
    "#     for key in get_top_k:\n",
    "#         my_dict[key]=my_dict.get(key, 0)+1\n",
    "#         count+=1\n",
    "#         if count==5:\n",
    "#             break\n",
    "\n",
    "reg = Lasso(alpha=0.045).fit(X_train, y_train)\n",
    "reg.score(X_test, y_test)\n",
    "\n",
    "weight={}\n",
    "count=0\n",
    "for c in reg.coef_:\n",
    "    weight[X.columns[count]]=c\n",
    "    count+=1\n",
    "dict(sorted(weight.items(), key=lambda item: abs(item[1]),reverse=True))\n"
   ]
  },
  {
   "cell_type": "code",
   "execution_count": 349,
   "id": "7a5a4dc0-59a8-41b9-8f67-4880bce2a755",
   "metadata": {
    "tags": []
   },
   "outputs": [
    {
     "data": {
      "text/plain": [
       "0.14553323280327402"
      ]
     },
     "execution_count": 349,
     "metadata": {},
     "output_type": "execute_result"
    }
   ],
   "source": [
    "model=SentenceTransformer('all-MiniLM-L6-v2')\n",
    "rev1sentences=dfrev['Review Text'].copy()\n",
    "for i in range(len(rev1sentences)):\n",
    "    if rev1sentences.iloc[i]!=rev1sentences.iloc[i]: \n",
    "        rev1sentences.iloc[i]='missing'\n",
    "rev1emb=model.encode(list(rev1sentences))\n",
    "# X['Review Text']=list(rev1emb)\n",
    "XX=pd.DataFrame(rev1emb)\n",
    "XX_train, XX_test, y_train, y_test = train_test_split(XX, y, test_size=0.25, random_state=42)\n",
    "XXlinreg = LinearRegression().fit(XX_train, y_train)\n",
    "XXlinreg.score(XX_test, y_test)\n",
    "# rev1emb"
   ]
  },
  {
   "cell_type": "code",
   "execution_count": 263,
   "id": "7f3cb435-493f-4aca-ab85-cfeae3b66b99",
   "metadata": {},
   "outputs": [
    {
     "data": {
      "text/plain": [
       "0.35980204878984257"
      ]
     },
     "execution_count": 263,
     "metadata": {},
     "output_type": "execute_result"
    }
   ],
   "source": [
    "regrev = Lasso(alpha=0.001).fit(XX_train, y_train)\n",
    "regrev.score(XX_test, y_test)"
   ]
  },
  {
   "cell_type": "code",
   "execution_count": 272,
   "id": "adbc2c18-e72a-4b53-af77-cc6ac3aca1d4",
   "metadata": {
    "collapsed": true,
    "jupyter": {
     "outputs_hidden": true
    },
    "tags": []
   },
   "outputs": [
    {
     "data": {
      "text/plain": [
       "{'Has Children?_No': 0.13806690473170183,\n",
       " 'Average Amount Spent_Low': -0.137429646506681,\n",
       " 'Height (in)': 0.006411923512085655,\n",
       " 'Birth Year': 0.0012920371307597656,\n",
       " 'Weight (lb)': -0.0011624829843023736,\n",
       " 'Marital Status_Married': 0.0,\n",
       " 'Marital Status_Single': 0.0,\n",
       " 'Marital Status_Widow': -0.0,\n",
       " 'Marital Status_missing': -0.0,\n",
       " 'Has Children?_Yes': -0.0,\n",
       " 'Has Children?_missing': -0.0,\n",
       " 'Average Amount Spent_High': 0.0,\n",
       " 'Average Amount Spent_Medium': 0.0,\n",
       " 'Preferred Mode of Transport_Car Owner': -0.0,\n",
       " 'Preferred Mode of Transport_On Foot': 0.0,\n",
       " 'Preferred Mode of Transport_Public Transit': -0.0,\n",
       " 'Northwestern Student?_No': -0.0,\n",
       " 'Northwestern Student?_Yes': 0.0,\n",
       " 'Cuisine_American': -0.0,\n",
       " 'Cuisine_BBQ': -0.0,\n",
       " 'Cuisine_Breakfast': 0.0,\n",
       " 'Cuisine_Brewery': 0.0,\n",
       " 'Cuisine_Bubble Tea': -0.0,\n",
       " 'Cuisine_Burgers': -0.0,\n",
       " 'Cuisine_Chinese': 0.0,\n",
       " 'Cuisine_Chocolate': 0.0,\n",
       " 'Cuisine_Coffee': 0.0,\n",
       " 'Cuisine_French': -0.0,\n",
       " 'Cuisine_Irish': -0.0,\n",
       " 'Cuisine_Italian': 0.0,\n",
       " 'Cuisine_Jamaican': 0.0,\n",
       " 'Cuisine_Japanese': -0.0,\n",
       " 'Cuisine_Korean': 0.0,\n",
       " 'Cuisine_Mediterranean': -0.0,\n",
       " 'Cuisine_Mexican': -0.0,\n",
       " 'Cuisine_Pizza': 0.0,\n",
       " 'Cuisine_Salad': 0.0,\n",
       " 'Cuisine_Seafood': 0.0,\n",
       " 'Cuisine_South Asian': -0.0,\n",
       " 'Cuisine_Spanish': -0.0,\n",
       " 'Cuisine_Thai': 0.0,\n",
       " 'Cuisine_Vegetarian': 0.0,\n",
       " 'Cuisine_missing': -0.0}"
      ]
     },
     "execution_count": 272,
     "metadata": {},
     "output_type": "execute_result"
    }
   ],
   "source": [
    "A=pd.concat([X.reset_index(), XX], axis=1)\n",
    "A=A.drop('index',axis=1)\n",
    "A_train, A_test, y_train, y_test = train_test_split(A, y, test_size=0.25, random_state=42)\n",
    "regall = Lasso(alpha=.001).fit(A_train, y_train)\n",
    "regall.score(A_test, y_test)\n",
    "\n",
    "weight={}\n",
    "count=0\n",
    "for c in reg.coef_:\n",
    "    weight[X.columns[count]]=c\n",
    "    count+=1\n",
    "dict(sorted(weight.items(), key=lambda item: abs(item[1]),reverse=True))\n"
   ]
  },
  {
   "cell_type": "code",
   "execution_count": 326,
   "id": "21881e4f-93d4-4e53-b83c-dda95f558bfd",
   "metadata": {},
   "outputs": [
    {
     "data": {
      "text/plain": [
       "Rating                                           4.000000\n",
       "Birth Year                                    1979.200000\n",
       "Weight (lb)                                    179.644444\n",
       "Height (in)                                    160.844444\n",
       "Marital Status_Married                           0.400000\n",
       "Marital Status_Single                            0.533333\n",
       "Marital Status_Widow                             0.044444\n",
       "Marital Status_missing                           0.022222\n",
       "Has Children?_No                                 0.688889\n",
       "Has Children?_Yes                                0.288889\n",
       "Has Children?_missing                            0.022222\n",
       "Average Amount Spent_High                        0.177778\n",
       "Average Amount Spent_Low                         0.222222\n",
       "Average Amount Spent_Medium                      0.600000\n",
       "Preferred Mode of Transport_Car Owner            0.733333\n",
       "Preferred Mode of Transport_On Foot              0.222222\n",
       "Preferred Mode of Transport_Public Transit       0.044444\n",
       "Northwestern Student?_No                         1.000000\n",
       "Northwestern Student?_Yes                        0.000000\n",
       "Vegetarian?_No                                   0.044444\n",
       "Vegetarian?_Yes                                  0.044444\n",
       "Vegetarian?_missing                              0.911111\n",
       "dtype: float64"
      ]
     },
     "execution_count": 326,
     "metadata": {},
     "output_type": "execute_result"
    }
   ],
   "source": [
    "newdfrev[newdfrev['Cuisine']=='Coffee'][newdfrev['Northwestern Student?_Yes']==0].mean()"
   ]
  },
  {
   "cell_type": "code",
   "execution_count": 325,
   "id": "5a8bf9f7-07d0-4dc5-919a-e994030084f9",
   "metadata": {
    "tags": []
   },
   "outputs": [
    {
     "data": {
      "text/plain": [
       "Rating                                           4.000000\n",
       "Birth Year                                    2001.250000\n",
       "Weight (lb)                                    205.083333\n",
       "Height (in)                                    174.083333\n",
       "Marital Status_Married                           0.083333\n",
       "Marital Status_Single                            0.916667\n",
       "Marital Status_Widow                             0.000000\n",
       "Marital Status_missing                           0.000000\n",
       "Has Children?_No                                 0.916667\n",
       "Has Children?_Yes                                0.083333\n",
       "Has Children?_missing                            0.000000\n",
       "Average Amount Spent_High                        0.416667\n",
       "Average Amount Spent_Low                         0.583333\n",
       "Average Amount Spent_Medium                      0.000000\n",
       "Preferred Mode of Transport_Car Owner            0.083333\n",
       "Preferred Mode of Transport_On Foot              0.750000\n",
       "Preferred Mode of Transport_Public Transit       0.166667\n",
       "Northwestern Student?_No                         0.000000\n",
       "Northwestern Student?_Yes                        1.000000\n",
       "Vegetarian?_No                                   0.083333\n",
       "Vegetarian?_Yes                                  0.000000\n",
       "Vegetarian?_missing                              0.916667\n",
       "dtype: float64"
      ]
     },
     "execution_count": 325,
     "metadata": {},
     "output_type": "execute_result"
    }
   ],
   "source": [
    "newdfrev[newdfrev['Cuisine']=='Coffee'][newdfrev['Northwestern Student?_Yes']==1].mean()"
   ]
  },
  {
   "cell_type": "code",
   "execution_count": 340,
   "id": "8e8c6783-dc33-40c8-936f-65b125cf254a",
   "metadata": {
    "tags": []
   },
   "outputs": [
    {
     "data": {
      "text/plain": [
       "0.23424382785456854"
      ]
     },
     "execution_count": 340,
     "metadata": {},
     "output_type": "execute_result"
    }
   ],
   "source": [
    "# Coffee shop Investigation\n",
    "\n",
    "cofy=newdfrev[newdfrev['Cuisine']=='Coffee']['Rating'].reset_index().drop('index',axis=1)\n",
    "coffee=newdfrev[newdfrev['Cuisine']=='Coffee'].drop(['Reviewer Name','Restaurant Name','Rating','Review Text','Date of Review','Cuisine','Northwestern Student?_No','Vegetarian?_No','Has Children?_Yes'],axis=1).reset_index().drop('index',axis=1)\n",
    "\n",
    "# weight={}\n",
    "# for i in range(40):\n",
    "#     c_train, c_test, r_train, r_test = train_test_split(coffee, cofy, test_size=0.25, random_state=42)\n",
    "\n",
    "#     regcof = Lasso(alpha=0.05).fit(c_train,r_train)\n",
    "#     regcof.score(c_test,r_test)\n",
    "#     count=0\n",
    "#     for c in regcof.coef_:\n",
    "#         weight[coffee.columns[count]]=weight.get(coffee.columns[count], 0)+c\n",
    "#         count+=1\n",
    "        \n",
    "# for key in weight:\n",
    "#         weight[key]/=40 \n",
    "        \n",
    "# sorted(weight.items(), key=lambda item: abs(item[1]),reverse=True)\n",
    "\n",
    "c_train, c_test, r_train, r_test = train_test_split(coffee, cofy, test_size=0.25, random_state=42)\n",
    "regcof = Lasso(alpha=0.01).fit(c_train,r_train)\n",
    "regcof.score(c_test,r_test)"
   ]
  },
  {
   "cell_type": "code",
   "execution_count": 620,
   "id": "f0e9f213-316e-4659-b8bd-3a6886d38708",
   "metadata": {},
   "outputs": [
    {
     "data": {
      "text/html": [
       "<div>\n",
       "<style scoped>\n",
       "    .dataframe tbody tr th:only-of-type {\n",
       "        vertical-align: middle;\n",
       "    }\n",
       "\n",
       "    .dataframe tbody tr th {\n",
       "        vertical-align: top;\n",
       "    }\n",
       "\n",
       "    .dataframe thead th {\n",
       "        text-align: right;\n",
       "    }\n",
       "</style>\n",
       "<table border=\"1\" class=\"dataframe\">\n",
       "  <thead>\n",
       "    <tr style=\"text-align: right;\">\n",
       "      <th></th>\n",
       "      <th>Birth Year</th>\n",
       "      <th>Rating</th>\n",
       "    </tr>\n",
       "  </thead>\n",
       "  <tbody>\n",
       "    <tr>\n",
       "      <th>15</th>\n",
       "      <td>57.0</td>\n",
       "      <td>1</td>\n",
       "    </tr>\n",
       "    <tr>\n",
       "      <th>16</th>\n",
       "      <td>41.0</td>\n",
       "      <td>1</td>\n",
       "    </tr>\n",
       "    <tr>\n",
       "      <th>17</th>\n",
       "      <td>21.0</td>\n",
       "      <td>2</td>\n",
       "    </tr>\n",
       "    <tr>\n",
       "      <th>21</th>\n",
       "      <td>24.0</td>\n",
       "      <td>1</td>\n",
       "    </tr>\n",
       "    <tr>\n",
       "      <th>24</th>\n",
       "      <td>49.0</td>\n",
       "      <td>2</td>\n",
       "    </tr>\n",
       "    <tr>\n",
       "      <th>25</th>\n",
       "      <td>35.0</td>\n",
       "      <td>1</td>\n",
       "    </tr>\n",
       "    <tr>\n",
       "      <th>27</th>\n",
       "      <td>42.0</td>\n",
       "      <td>1</td>\n",
       "    </tr>\n",
       "    <tr>\n",
       "      <th>32</th>\n",
       "      <td>30.0</td>\n",
       "      <td>2</td>\n",
       "    </tr>\n",
       "    <tr>\n",
       "      <th>45</th>\n",
       "      <td>18.0</td>\n",
       "      <td>1</td>\n",
       "    </tr>\n",
       "  </tbody>\n",
       "</table>\n",
       "</div>"
      ],
      "text/plain": [
       "    Birth Year  Rating\n",
       "15        57.0       1\n",
       "16        41.0       1\n",
       "17        21.0       2\n",
       "21        24.0       1\n",
       "24        49.0       2\n",
       "25        35.0       1\n",
       "27        42.0       1\n",
       "32        30.0       2\n",
       "45        18.0       1"
      ]
     },
     "execution_count": 620,
     "metadata": {},
     "output_type": "execute_result"
    }
   ],
   "source": [
    "# Interesting findings...\n",
    "\n",
    "# melody smith stockholm\n",
    "# majority ratings 5\n",
    "S=pd.DataFrame(regcof.predict(coffee.iloc[:45]))\n",
    "A=pd.concat([coffee['Birth Year'],cofy],axis=1)\n",
    "A[A['Rating']<3]\n"
   ]
  },
  {
   "cell_type": "code",
   "execution_count": 650,
   "id": "97be2c65-ff5b-4cb5-8769-a64375ddb312",
   "metadata": {
    "tags": []
   },
   "outputs": [
    {
     "data": {
      "text/plain": [
       "{1: 0.15,\n",
       " 2: 0.060240963855421686,\n",
       " 3: 0.12345679012345678,\n",
       " 4: 0.17857142857142858,\n",
       " 5: 0.49887133182844245}"
      ]
     },
     "execution_count": 650,
     "metadata": {},
     "output_type": "execute_result"
    }
   ],
   "source": [
    "# Distribution of reviews with exclamation mark coditioned on the rating\n",
    "\n",
    "exclam={}\n",
    "for i in range(1,6):\n",
    "    grps=dfrev[dfrev['Rating']==i]['Review Text'].dropna().values[:]\n",
    "    lst=list(grps)\n",
    "    for sen in lst:\n",
    "        if type(sen)==str:\n",
    "            if '!' in sen:\n",
    "                exclam[i]=exclam.get(i,0)+1\n",
    "    exclam[i]/=len(grps)\n",
    "    \n",
    "exclam  "
   ]
  }
 ],
 "metadata": {
  "kernelspec": {
   "display_name": "Python 3 (ipykernel)",
   "language": "python",
   "name": "python3"
  },
  "language_info": {
   "codemirror_mode": {
    "name": "ipython",
    "version": 3
   },
   "file_extension": ".py",
   "mimetype": "text/x-python",
   "name": "python",
   "nbconvert_exporter": "python",
   "pygments_lexer": "ipython3",
   "version": "3.8.10"
  }
 },
 "nbformat": 4,
 "nbformat_minor": 5
}
